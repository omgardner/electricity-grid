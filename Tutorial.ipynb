{
 "cells": [
  {
   "cell_type": "code",
   "execution_count": 1,
   "metadata": {},
   "outputs": [],
   "source": [
    "# ctrl + shift + p = open \n",
    "# ren [ENTER] = rename the notebook\n",
    "\n",
    "# this is a demo of using vector data and folium + gdal/osgeo"
   ]
  },
  {
   "cell_type": "code",
   "execution_count": 5,
   "metadata": {},
   "outputs": [],
   "source": [
    "from osgeo import ogr, osr\n"
   ]
  },
  {
   "cell_type": "code",
   "execution_count": 3,
   "metadata": {},
   "outputs": [
    {
     "name": "stdout",
     "output_type": "stream",
     "text": [
      "POINT (173914 441864)\n"
     ]
    }
   ],
   "source": [
    "# Well Known Text (WKT): a sort of markup language that describes spatial information in a clean text format\n",
    "#   WKT also has a binary format for improved information density.\n",
    "# Create a point geometry\n",
    "wkt = \"POINT (173914.00 441864.00)\"\n",
    "pt = ogr.CreateGeometryFromWkt(wkt)\n",
    "print(pt)\n",
    "# print(help(osgeo.ogr))"
   ]
  },
  {
   "cell_type": "code",
   "execution_count": 6,
   "metadata": {},
   "outputs": [
    {
     "data": {
      "text/plain": [
       "0"
      ]
     },
     "execution_count": 6,
     "metadata": {},
     "output_type": "execute_result"
    }
   ],
   "source": [
    "spatialRef = osr.SpatialReference()\n",
    "spatialRef.ImportFromEPSG(4326)  # from EPSG - Lat/long\n",
    "\n",
    "# other optional method to use\n",
    "# spatialReference = osr.SpatialReference()\n",
    "# spatialReference.ImportFromProj4('+proj=longlat +ellps=WGS84 +datum=WGS84 +no_defs')"
   ]
  },
  {
   "cell_type": "code",
   "execution_count": 11,
   "metadata": {},
   "outputs": [
    {
     "name": "stdout",
     "output_type": "stream",
     "text": [
      "POINT (147 -33)\n",
      "BECOMES\n",
      "POINT (9300000.0 4527700.5034483)\n"
     ]
    }
   ],
   "source": [
    "# TESTING REMAPPING TO PROJECTED COORDINATES\n",
    "\n",
    "## lat/long definition\n",
    "source = osr.SpatialReference()\n",
    "source.ImportFromEPSG(4326)\n",
    "# https://spatialreference.org/ref/epsg/gda94-nsw-lambert/\n",
    "target = osr.SpatialReference()\n",
    "target.ImportFromEPSG(3308)\n",
    "# transform from lat/long to NSW coord. system\n",
    "transform = osr.CoordinateTransformation(source, target)\n",
    "\n",
    "test_lat,test_lon = (-33, 147)\n",
    "wkt_str = f\"POINT ({test_lon} {test_lat})\"\n",
    "point = ogr.CreateGeometryFromWkt(wkt_str) #ogr uses lon, lat\n",
    "print(point.ExportToWkt())\n",
    "print(\"BECOMES\")\n",
    "point.Transform(transform)\n",
    "print(point.ExportToWkt())"
   ]
  },
  {
   "cell_type": "code",
   "execution_count": null,
   "metadata": {},
   "outputs": [],
   "source": []
  }
 ],
 "metadata": {
  "kernelspec": {
   "display_name": "Python 3",
   "language": "python",
   "name": "python3"
  },
  "language_info": {
   "codemirror_mode": {
    "name": "ipython",
    "version": 3
   },
   "file_extension": ".py",
   "mimetype": "text/x-python",
   "name": "python",
   "nbconvert_exporter": "python",
   "pygments_lexer": "ipython3",
   "version": "3.7.5"
  }
 },
 "nbformat": 4,
 "nbformat_minor": 2
}
