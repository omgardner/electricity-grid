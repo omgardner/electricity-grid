{
 "cells": [
  {
   "cell_type": "code",
   "execution_count": 1,
   "metadata": {},
   "outputs": [],
   "source": [
    "# must run as conda virtual environemnt: spatial-venv\n",
    "\n",
    "# geopandas and GDAL / OSGEO\n",
    "# import geopandas as gpd\n",
    "# standard imports\n",
    "import sys\n",
    "\n"
   ]
  },
  {
   "cell_type": "code",
   "execution_count": 2,
   "metadata": {},
   "outputs": [],
   "source": [
    "# https://pcjericks.github.io/py-gdalogr-cookbook/vector_layers.html#get-all-layers-in-an-esri-file-geodatabase"
   ]
  },
  {
   "cell_type": "code",
   "execution_count": 3,
   "metadata": {
    "scrolled": true
   },
   "outputs": [],
   "source": [
    "# import OGR\n",
    "from osgeo import ogr\n",
    "\n",
    "gdb_path = \"./raw-data/ElectricityTransmissionLines_v2.gdb\"\n",
    "\n",
    "# use OGR specific exceptions\n",
    "ogr.UseExceptions()\n",
    "\n",
    "# get the driver\n",
    "driver = ogr.GetDriverByName(\"OpenFileGDB\")\n",
    "\n",
    "# opening the FileGDB\n",
    "try:\n",
    "    gdb = driver.Open(gdb_path, 0)\n",
    "except Exception as e:\n",
    "    print(e)\n",
    "    sys.exit()"
   ]
  },
  {
   "cell_type": "code",
   "execution_count": 4,
   "metadata": {},
   "outputs": [
    {
     "name": "stdout",
     "output_type": "stream",
     "text": [
      "Number of Feature Classes in gdb: 1\n",
      "\t ElectricityTransmissionLines_v2\n"
     ]
    }
   ],
   "source": [
    "# list to store layers'names\n",
    "featsClassNames = []\n",
    "\n",
    "# looping the range between 0 and the number of Feature Classes (\"shapefiles\") in the gdb\n",
    "for featsClass_idx in range(gdb.GetLayerCount()):\n",
    "    # grab the Feature Class via it's index\n",
    "    featsClass = gdb.GetLayerByIndex(featsClass_idx)\n",
    "    # only retrieve the name of the Feature Class\n",
    "    featsClassNames.append(featsClass.GetName())\n",
    "\n",
    "\n",
    "print(\"Number of Feature Classes in gdb:\",gdb.GetLayerCount())\n",
    "# printing\n",
    "for featsClassName in featsClassNames:\n",
    "    print (\"\\t\",featsClassName)\n"
   ]
  },
  {
   "cell_type": "code",
   "execution_count": 5,
   "metadata": {},
   "outputs": [
    {
     "name": "stdout",
     "output_type": "stream",
     "text": [
      "Re-retrieved the feature class based on the name: ElectricityTransmissionLines_v2\n"
     ]
    }
   ],
   "source": [
    "# using pythonic naming\n",
    "target_feats_class = gdb.GetLayerByName(featsClassNames[0])\n",
    "print(\"Re-retrieved the feature class based on the name:\",target_feats_class.GetName())"
   ]
  },
  {
   "cell_type": "code",
   "execution_count": 6,
   "metadata": {},
   "outputs": [
    {
     "data": {
      "text/plain": [
       "<osgeo.ogr.Layer; proxy of <Swig Object of type 'OGRLayerShadow *' at 0x0346FFE0> >"
      ]
     },
     "execution_count": 6,
     "metadata": {},
     "output_type": "execute_result"
    }
   ],
   "source": [
    "#[x for x in dir(target_feats_class) if not x.startswith(\"_\")]\n",
    "target_feats_class"
   ]
  },
  {
   "cell_type": "code",
   "execution_count": 7,
   "metadata": {},
   "outputs": [],
   "source": [
    "# use extent to draw a circle around australia.\n",
    "bbox = target_feats_class.GetExtent()\n",
    "# lat,lon\n",
    "tl = bbox[3],bbox[0]\n",
    "br = bbox[2],bbox[1] "
   ]
  },
  {
   "cell_type": "code",
   "execution_count": 8,
   "metadata": {},
   "outputs": [],
   "source": [
    "geom_idx = target_feats_class.GetGeomType()\n",
    "feature = target_feats_class.GetFeature(1)\n",
    "geom = feature.geometry()"
   ]
  },
  {
   "cell_type": "code",
   "execution_count": 11,
   "metadata": {},
   "outputs": [
    {
     "data": {
      "text/plain": [
       "{'FEATURETYPE': 'Transmission Line',\n",
       " 'DESCRIPTON': 'A network of wires and insulators used to connect and transport high voltage electricity from generators to large demand customers and the lower voltage electricity distribution network',\n",
       " 'CLASS': 'Overhead',\n",
       " 'FID': '1',\n",
       " 'NAME': 'Callide B Power Station to Calvale',\n",
       " 'OPERATIONALSTATUS': 'Operational',\n",
       " 'CAPACITYKV': '275',\n",
       " 'STATE': 'Queensland',\n",
       " 'SPATIALCONFIDENCE': '5',\n",
       " 'REVISED': '2012/07/10 00:00:00',\n",
       " 'COMMENT': None,\n",
       " 'SHAPE_Length': 0.010167099425277545}"
      ]
     },
     "execution_count": 11,
     "metadata": {},
     "output_type": "execute_result"
    }
   ],
   "source": [
    "import json\n",
    "# grabbing the \n",
    "feature_dict = json.loads(feature.ExportToJson())[\"properties\"]\n",
    "feature_dict"
   ]
  },
  {
   "cell_type": "markdown",
   "metadata": {},
   "source": [
    "first_feature = next(target_feats_class)\n",
    "first_feature.ExportToJson()"
   ]
  },
  {
   "cell_type": "code",
   "execution_count": null,
   "metadata": {},
   "outputs": [],
   "source": [
    "def abs_addition(l, val):\n",
    "    # add or subtract the value from the list of elements.\n",
    "    # increases the absolute value. e.g. -45+10=-55, 5+10=15\n",
    "    return [(-1,1)[ele>=0]*(abs(ele)+val) for ele in l]\n",
    "abs_addition((1,-25), 20)"
   ]
  },
  {
   "cell_type": "code",
   "execution_count": null,
   "metadata": {},
   "outputs": [],
   "source": [
    "import numpy as np\n",
    "print(tl,br)"
   ]
  },
  {
   "cell_type": "code",
   "execution_count": null,
   "metadata": {},
   "outputs": [],
   "source": [
    "import folium\n",
    "# get middle point within the bbox for display purposes\n",
    "middle_point = np.mean((tl,br), axis=0)\n",
    "\n",
    "m = folium.Map(location=middle_point, tiles=\"\", zoom_start=5)\n",
    "# create rectangle to represent the bounding box\n",
    "folium.Rectangle((tl,br),color=\"#FFFF00\").add_to(m)\n",
    "# iterate over each feature within the feature class\n",
    "for i, feature in enumerate(target_feats_class):\n",
    "    # extract contents of feature by exporting the feature \n",
    "    #   to a json string, then parsing that json string to a dict\n",
    "    geom_dict = json.loads(feature.ExportToJson())\n",
    "    \n",
    "    # capacity\n",
    "    geom_dict['CAPACITYKV']\n",
    "    \n",
    "    # extract the coordinates from the dict. coordinates are within a list of length 1\n",
    "    line_points_lonlat = geom_dict[\"geometry\"][\"coordinates\"][0]\n",
    "    \n",
    "    # reverse coordinate tuple order to have latitude first. \n",
    "    line_points_latlon = [(lat,lon) for lon,lat in line_points_lonlat]\n",
    "    \n",
    "    # draw the black line of weight 2 onto the map.\n",
    "    folium.PolyLine(line_points_latlon, \n",
    "                    weight=2,\n",
    "                    color=\"#000000\"\n",
    "   ).add_to(m)\n",
    "\n",
    "m.save(\"./results/map-1.html\") "
   ]
  },
  {
   "cell_type": "markdown",
   "metadata": {},
   "source": [
    "## Current GOal\n",
    "> goal is currently very vague: create a visualisation using data from a geodatabase.\n"
   ]
  },
  {
   "cell_type": "code",
   "execution_count": null,
   "metadata": {},
   "outputs": [],
   "source": [
    "\n",
    "# clean close of geodatabase object\n",
    "del gdb"
   ]
  },
  {
   "cell_type": "code",
   "execution_count": null,
   "metadata": {},
   "outputs": [],
   "source": []
  }
 ],
 "metadata": {
  "kernelspec": {
   "display_name": "Python 3",
   "language": "python",
   "name": "python3"
  },
  "language_info": {
   "codemirror_mode": {
    "name": "ipython",
    "version": 3
   },
   "file_extension": ".py",
   "mimetype": "text/x-python",
   "name": "python",
   "nbconvert_exporter": "python",
   "pygments_lexer": "ipython3",
   "version": "3.7.5"
  }
 },
 "nbformat": 4,
 "nbformat_minor": 2
}
